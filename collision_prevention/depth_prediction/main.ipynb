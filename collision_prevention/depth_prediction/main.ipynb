{
 "cells": [
  {
   "cell_type": "code",
   "execution_count": 8,
   "metadata": {},
   "outputs": [],
   "source": [
    "import json\n",
    "import math\n",
    "import os\n",
    "import os.path as path\n",
    "import re\n",
    "import tempfile\n",
    "from matplotlib import pyplot\n",
    "\n",
    "import cv2\n",
    "\n",
    "from model import airsim as airsim_model\n",
    "from util import quickstart as util"
   ]
  },
  {
   "cell_type": "markdown",
   "metadata": {},
   "source": [
    "## Parameters Setting"
   ]
  },
  {
   "cell_type": "code",
   "execution_count": 2,
   "metadata": {},
   "outputs": [],
   "source": [
    "# 欲載入 pretrain weight 的路徑\n",
    "MODEL_WEIGHT_PATH = '/home/mjchiu/Documents/darknet-depth/models/mnv2_segment_depth_multiloss/airsim/6class_epoch-20_loss-8.3198.h5'\n",
    "\n",
    "# 資料路徑\n",
    "DATA_PATH = '/home/mjchiu/Documents/drone/collision_prevention/depth_prediction/data/2019-10-16-15-06/scene'\n",
    "RESULT_PATH = '/home/mjchiu/Documents/drone/collision_prevention/depth_prediction/result/2019-10-16-15-06'\n",
    "\n",
    "# Model Input 解析度設定\n",
    "INPUT_HEIGHT = 320\n",
    "INPUT_WIDTH = 384\n",
    "\n",
    "# Video Output 解析度設定\n",
    "OUTPUT_HEIGHT = 1440\n",
    "OUTPUT_WIDTH = 1920"
   ]
  },
  {
   "cell_type": "markdown",
   "metadata": {},
   "source": [
    "## Build Model"
   ]
  },
  {
   "cell_type": "code",
   "execution_count": 3,
   "metadata": {},
   "outputs": [
    {
     "name": "stderr",
     "output_type": "stream",
     "text": [
      "/usr/local/lib/python3.5/dist-packages/keras_applications/mobilenet_v2.py:315: UserWarning: MobileNet shape is undefined. Weights for input shape(224, 224) will be loaded.\n",
      "  warnings.warn('MobileNet shape is undefined.'\n"
     ]
    }
   ],
   "source": [
    "# 建立 Model layer 架構\n",
    "model = airsim_model.MNv2_segment_depth_multiloss_model(\n",
    "    inputShape = (INPUT_HEIGHT, INPUT_WIDTH, 3), \n",
    "    alpha = 0.35, \n",
    "    expansion_factor = 6, \n",
    "    depth_multiplier = 1, \n",
    "    lock_backend_weights = False,\n",
    "    CLASSES = 6,\n",
    ")\n",
    "\n",
    "# 載入Model weight\n",
    "model.load_weights(MODEL_WEIGHT_PATH)"
   ]
  },
  {
   "cell_type": "markdown",
   "metadata": {},
   "source": [
    "## Predict the Image and Save Result"
   ]
  },
  {
   "cell_type": "code",
   "execution_count": 12,
   "metadata": {},
   "outputs": [
    {
     "name": "stdout",
     "output_type": "stream",
     "text": [
      "predicted dataset 2019-10-16-15-06-49\n",
      "predicted dataset 2019-10-16-15-08-28\n",
      "predicted dataset 2019-10-16-15-07-20\n",
      "predicted dataset 2019-10-16-15-09-42\n",
      "predicted dataset 2019-10-16-15-08-05\n"
     ]
    }
   ],
   "source": [
    "# iterate each dataset\n",
    "for folder_name in os.listdir(DATA_PATH):\n",
    "    # prepare result image folder\n",
    "    result_image_folder_path = os.path.join(RESULT_PATH, 'image', folder_name)\n",
    "    if not os.path.exists(result_image_folder_path):\n",
    "        os.makedirs(result_image_folder_path)\n",
    "    # iterate each image\n",
    "    folder_path = os.path.join(DATA_PATH, folder_name) \n",
    "    for file_name in os.listdir(folder_path):\n",
    "        # 讀取影像\n",
    "        scene = util.read_image(os.path.join(folder_path, file_name), shape=(INPUT_HEIGHT,INPUT_WIDTH), rand=0)\n",
    "        segment = util.read_image(\n",
    "            os.path.join(folder_path.replace('scene', 'segment'), file_name), \n",
    "            shape=(INPUT_HEIGHT,INPUT_WIDTH), \n",
    "            rand=0,\n",
    "        )\n",
    "        # 使用 image 來預測出 depth map 和 semantic segmentation\n",
    "        predict_depth, predict_segment = util.getResult(model, scene, (INPUT_HEIGHT, INPUT_WIDTH))\n",
    "        # 儲存結果\n",
    "        image_path = os.path.join(RESULT_PATH, 'image', folder_name, file_name)\n",
    "        util.saveResult([scene, segment, predict_depth[0], predict_segment[0]], image_path, (OUTPUT_WIDTH/300, OUTPUT_HEIGHT/300))\n",
    "    print('predicted dataset {}'.format(folder_name))\n",
    "            "
   ]
  },
  {
   "cell_type": "markdown",
   "metadata": {},
   "source": [
    "# Convert Images into Video "
   ]
  },
  {
   "cell_type": "code",
   "execution_count": 13,
   "metadata": {},
   "outputs": [
    {
     "name": "stdout",
     "output_type": "stream",
     "text": [
      "/home/mjchiu/Documents/drone/collision_prevention/depth_prediction/result/2019-10-16-15-06/video/2019-10-16-15-06-49.mp4 created\n",
      "/home/mjchiu/Documents/drone/collision_prevention/depth_prediction/result/2019-10-16-15-06/video/2019-10-16-15-08-28.mp4 created\n",
      "/home/mjchiu/Documents/drone/collision_prevention/depth_prediction/result/2019-10-16-15-06/video/2019-10-16-15-07-20.mp4 created\n",
      "/home/mjchiu/Documents/drone/collision_prevention/depth_prediction/result/2019-10-16-15-06/video/2019-10-16-15-09-42.mp4 created\n",
      "/home/mjchiu/Documents/drone/collision_prevention/depth_prediction/result/2019-10-16-15-06/video/2019-10-16-15-08-05.mp4 created\n"
     ]
    }
   ],
   "source": [
    "# prepare result video folder\n",
    "result_video_folder_path = path.join(RESULT_PATH, 'video')\n",
    "if not os.path.exists(result_video_folder_path):\n",
    "    os.makedirs(result_video_folder_path)\n",
    "# iterate result images\n",
    "result_image_folder =  path.join(RESULT_PATH, 'image')\n",
    "for folder_name in os.listdir(result_image_folder):\n",
    "    # create result video\n",
    "    video_path = os.path.join(result_video_folder_path, folder_name+'.mp4')\n",
    "    video = cv2.VideoWriter(video_path, cv2.VideoWriter_fourcc(*'MP4V'), 10, (OUTPUT_WIDTH, OUTPUT_HEIGHT))\n",
    "    # iterate each image\n",
    "    for file_name in sorted(os.listdir(os.path.join(result_image_folder, folder_name)), key=lambda x: int(re.split('\\\\-|\\\\.', x)[-2])):\n",
    "        # 儲存結果\n",
    "        image_path = os.path.join(result_image_folder, folder_name, file_name)\n",
    "        image = cv2.resize(cv2.imread(image_path), (OUTPUT_WIDTH, OUTPUT_HEIGHT))\n",
    "        video.write(image)\n",
    "    video.release()\n",
    "    print('{} created'.format(video_path))"
   ]
  }
 ],
 "metadata": {
  "kernelspec": {
   "display_name": "Python 3",
   "language": "python",
   "name": "python3"
  },
  "language_info": {
   "codemirror_mode": {
    "name": "ipython",
    "version": 3
   },
   "file_extension": ".py",
   "mimetype": "text/x-python",
   "name": "python",
   "nbconvert_exporter": "python",
   "pygments_lexer": "ipython3",
   "version": "3.5.2"
  }
 },
 "nbformat": 4,
 "nbformat_minor": 2
}
